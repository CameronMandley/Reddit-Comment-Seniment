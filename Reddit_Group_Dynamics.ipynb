{
  "nbformat": 4,
  "nbformat_minor": 0,
  "metadata": {
    "colab": {
      "name": "Reddit Group Dynamics",
      "provenance": [],
      "collapsed_sections": []
    },
    "kernelspec": {
      "name": "python3",
      "display_name": "Python 3"
    }
  },
  "cells": [
    {
      "cell_type": "markdown",
      "metadata": {
        "id": "ldF8d3Jm3tHE"
      },
      "source": [
        "# Analysis of Reddit Comment Sentiments"
      ]
    },
    {
      "cell_type": "markdown",
      "metadata": {
        "id": "hsZHiDki3e2K"
      },
      "source": [
        "###### Authors: Cameron Mandley, Jasmine Wu"
      ]
    },
    {
      "cell_type": "markdown",
      "metadata": {
        "id": "A6Q_egSd2FG1"
      },
      "source": [
        "### Provide your credentials to the runtime"
      ]
    },
    {
      "cell_type": "code",
      "metadata": {
        "colab": {
          "base_uri": "https://localhost:8080/"
        },
        "id": "bfAbWbo9gP0h",
        "outputId": "906d0d8f-ba4c-451f-cfea-eb3b8436012e"
      },
      "source": [
        "from google.colab import auth\n",
        "auth.authenticate_user()\n",
        "print('Authenticated')"
      ],
      "execution_count": 454,
      "outputs": [
        {
          "output_type": "stream",
          "text": [
            "Authenticated\n"
          ],
          "name": "stdout"
        }
      ]
    },
    {
      "cell_type": "markdown",
      "metadata": {
        "id": "4dsXUMh72MTu"
      },
      "source": [
        "### Use Classic DataFrame Display"
      ]
    },
    {
      "cell_type": "code",
      "metadata": {
        "colab": {
          "base_uri": "https://localhost:8080/"
        },
        "id": "vt25y9Uogcnv",
        "outputId": "91eb7af7-cf27-4341-ff9b-7b88235912cc"
      },
      "source": [
        "%unload_ext google.colab.data_table"
      ],
      "execution_count": 455,
      "outputs": [
        {
          "output_type": "stream",
          "text": [
            "The google.colab.data_table extension is not loaded.\n"
          ],
          "name": "stdout"
        }
      ]
    },
    {
      "cell_type": "markdown",
      "metadata": {
        "id": "YT-1E5cT2ZHs"
      },
      "source": [
        "### Declare the Cloud project ID which will be used throughout this notebook"
      ]
    },
    {
      "cell_type": "code",
      "metadata": {
        "id": "05rcMAEkgZs8"
      },
      "source": [
        "project_id = 'mindful-marking-297202'"
      ],
      "execution_count": 456,
      "outputs": []
    },
    {
      "cell_type": "markdown",
      "metadata": {
        "id": "ZS2pfHJr2enT"
      },
      "source": [
        "### Sample approximately 2000 random rows"
      ]
    },
    {
      "cell_type": "code",
      "metadata": {
        "colab": {
          "base_uri": "https://localhost:8080/"
        },
        "id": "-CE-Sc3Qgkoo",
        "outputId": "97129100-cc99-483c-ca04-7b39f68b2368"
      },
      "source": [
        "from google.cloud import bigquery\n",
        "client = bigquery.Client(project=project_id)\n",
        "\n",
        "sample_count = 2000\n",
        "row_count = client.query('''\n",
        "  SELECT \n",
        "    COUNT(*) as total\n",
        "  FROM `fh-bigquery.reddit_comments.2010`''').to_dataframe().total[0]\n",
        "\n",
        "df = client.query('''\n",
        "  SELECT\n",
        "    *\n",
        "  FROM\n",
        "    `fh-bigquery.reddit_comments.2010`\n",
        "  WHERE RAND() < %d/%d\n",
        "''' % (sample_count, row_count)).to_dataframe()\n",
        "\n",
        "print('Full dataset has %d rows' % row_count)"
      ],
      "execution_count": 457,
      "outputs": [
        {
          "output_type": "stream",
          "text": [
            "Full dataset has 48489057 rows\n"
          ],
          "name": "stdout"
        }
      ]
    },
    {
      "cell_type": "markdown",
      "metadata": {
        "id": "52ovCiTA2kXf"
      },
      "source": [
        "### Remove Deleted Comments"
      ]
    },
    {
      "cell_type": "code",
      "metadata": {
        "id": "GlsyEAFHgoh2"
      },
      "source": [
        "df = df[df['body'] != '[deleted]']"
      ],
      "execution_count": 458,
      "outputs": []
    },
    {
      "cell_type": "code",
      "metadata": {
        "id": "K_JVf6ykgtWl",
        "colab": {
          "base_uri": "https://localhost:8080/"
        },
        "outputId": "fd18a170-7e14-4f9f-fba3-e0f92f2aea8a"
      },
      "source": [
        "from textblob import TextBlob\n",
        "import pandas as pd\n",
        "import numpy as np\n",
        "from numpy import random\n",
        "import nltk\n",
        "import matplotlib.pyplot as plt\n",
        "from nltk.corpus import stopwords\n",
        "import re\n",
        "get_ipython().run_line_magic('matplotlib', 'inline')\n",
        "from nltk import word_tokenize, download\n",
        "import string\n",
        "nltk.download('punkt')"
      ],
      "execution_count": 459,
      "outputs": [
        {
          "output_type": "stream",
          "text": [
            "[nltk_data] Downloading package punkt to /root/nltk_data...\n",
            "[nltk_data]   Package punkt is already up-to-date!\n"
          ],
          "name": "stdout"
        },
        {
          "output_type": "execute_result",
          "data": {
            "text/plain": [
              "True"
            ]
          },
          "metadata": {
            "tags": []
          },
          "execution_count": 459
        }
      ]
    },
    {
      "cell_type": "markdown",
      "metadata": {
        "id": "uZtHuTxP2uRP"
      },
      "source": [
        "### Remove Stopwords"
      ]
    },
    {
      "cell_type": "code",
      "metadata": {
        "colab": {
          "base_uri": "https://localhost:8080/"
        },
        "id": "ZVjip_DB_UJo",
        "outputId": "4d2136eb-3df6-465b-a86d-247c099c9d1e"
      },
      "source": [
        "from tqdm import tqdm\n",
        "nltk.download('stopwords')\n",
        "nltk.download('punkt')\n",
        "\n",
        "comments = df['body']\n",
        "comments_processed = []\n",
        "for sentence in tqdm(comments):\n",
        "    comments_processed.append(' '.join(token.lower() for token in nltk.word_tokenize(sentence) if token.lower() not in stopwords.words('english')))"
      ],
      "execution_count": 460,
      "outputs": [
        {
          "output_type": "stream",
          "text": [
            "  1%|          | 14/1805 [00:00<00:12, 139.87it/s]"
          ],
          "name": "stderr"
        },
        {
          "output_type": "stream",
          "text": [
            "[nltk_data] Downloading package stopwords to /root/nltk_data...\n",
            "[nltk_data]   Package stopwords is already up-to-date!\n",
            "[nltk_data] Downloading package punkt to /root/nltk_data...\n",
            "[nltk_data]   Package punkt is already up-to-date!\n"
          ],
          "name": "stdout"
        },
        {
          "output_type": "stream",
          "text": [
            "100%|██████████| 1805/1805 [00:08<00:00, 206.73it/s]\n"
          ],
          "name": "stderr"
        }
      ]
    },
    {
      "cell_type": "markdown",
      "metadata": {
        "id": "aq53Egwq220N"
      },
      "source": [
        "### Format Comments"
      ]
    },
    {
      "cell_type": "code",
      "metadata": {
        "id": "K6FmnTzeCy0T"
      },
      "source": [
        "from collections import Counter \n",
        "  \n",
        "# split() returns list of all the words in the string \n",
        "total_comments = [0] * len(comments_processed)\n",
        "i = 0\n",
        "for comment in comments_processed:\n",
        "  split_comment = comment.split()\n",
        "  total_comments[i] = split_comment\n",
        "  i = i+1"
      ],
      "execution_count": 462,
      "outputs": []
    },
    {
      "cell_type": "code",
      "metadata": {
        "id": "1l6aj8ncEUSs"
      },
      "source": [
        "punc = '''!()-[]{};:'\"\\, <>./?@#$%^&*_~`'''\n",
        "# Removing punctuations in string \n",
        "# Using loop + punctuation string \n",
        "for i in range(len(total_comments)):\n",
        "  for j in range(len(total_comments[i])):\n",
        "    for ele in total_comments[i][j]: \n",
        "      if ele in punc:  \n",
        "        total_comments[i][j] = 'None'\n",
        "  total_comments[i] = np.array(total_comments[i])[np.array(total_comments[i]) != 'None']"
      ],
      "execution_count": 464,
      "outputs": []
    },
    {
      "cell_type": "code",
      "metadata": {
        "id": "mX8u764wmuTU"
      },
      "source": [
        "string_comments = [str(comment).replace('[', '').replace(']', '').replace('\\'', '') for comment in total_comments]"
      ],
      "execution_count": 465,
      "outputs": []
    },
    {
      "cell_type": "markdown",
      "metadata": {
        "id": "wG4Apg5S27lE"
      },
      "source": [
        "### Determine Comment Polarities"
      ]
    },
    {
      "cell_type": "code",
      "metadata": {
        "id": "hVdPvywhrh7a"
      },
      "source": [
        "def detect_polarity(text):\n",
        "  return TextBlob(text).sentiment.polarity"
      ],
      "execution_count": 466,
      "outputs": []
    },
    {
      "cell_type": "code",
      "metadata": {
        "id": "yHnL6o1hZ1ZP"
      },
      "source": [
        "polarity = [detect_polarity(comment) for comment in string_comments]"
      ],
      "execution_count": 467,
      "outputs": []
    },
    {
      "cell_type": "code",
      "metadata": {
        "id": "SGGrhU45iBE_"
      },
      "source": [
        "comments_processed_df = pd.DataFrame({'body': comments_processed, 'polarity': polarity, 'subreddit_id': df['subreddit_id'], 'clean_comments': string_comments})"
      ],
      "execution_count": 469,
      "outputs": []
    },
    {
      "cell_type": "code",
      "metadata": {
        "colab": {
          "base_uri": "https://localhost:8080/",
          "height": 295
        },
        "id": "NymPY3l1i8uP",
        "outputId": "4a523d2f-97d5-4e58-e774-26ff8e6f9115"
      },
      "source": [
        "plt.hist(comments_processed_df['polarity'], density = True)\n",
        "plt.xlabel('Polarity')\n",
        "plt.ylabel('Count')\n",
        "plt.title('Histogram of Polarity Across all Sampled Subreddits in 2010');"
      ],
      "execution_count": 515,
      "outputs": [
        {
          "output_type": "display_data",
          "data": {
            "image/png": "[encoded data removed]",
            "text/plain": [
              "<Figure size 432x288 with 1 Axes>"
            ]
          },
          "metadata": {
            "tags": [],
            "needs_background": "light"
          }
        }
      ]
    },
    {
      "cell_type": "code",
      "metadata": {
        "id": "PsmngOzHmEP6"
      },
      "source": [
        "import seaborn as sns"
      ],
      "execution_count": 472,
      "outputs": []
    },
    {
      "cell_type": "code",
      "metadata": {
        "id": "J0GZyEnrzpBc"
      },
      "source": [
        "aggregated = comments_processed_df.groupby('subreddit_id').agg(np.mean).sample(20)"
      ],
      "execution_count": 510,
      "outputs": []
    },
    {
      "cell_type": "code",
      "metadata": {
        "colab": {
          "base_uri": "https://localhost:8080/",
          "height": 914
        },
        "id": "LXZBPAVykB6N",
        "outputId": "338efe56-7855-4b1b-822d-716d7bc722b7"
      },
      "source": [
        "plt.figure(figsize=(25,15))\n",
        "plt.bar(x=aggregated.index, height = aggregated['polarity'])\n",
        "plt.xlabel('Subreddit ID')\n",
        "plt.ylabel('Polarity')\n",
        "plt.title('Mean Polarity of Comments in 2010 Across 20 Random Subreddits From Sample');\n",
        "plt.show();"
      ],
      "execution_count": 514,
      "outputs": [
        {
          "output_type": "display_data",
          "data": {
            "image/png": "[encoded data removed]",
            "text/plain": [
              "<Figure size 1800x1080 with 1 Axes>"
            ]
          },
          "metadata": {
            "tags": [],
            "needs_background": "light"
          }
        }
      ]
    },
    {
      "cell_type": "markdown",
      "metadata": {
        "id": "WYcJ_jnk3KDj"
      },
      "source": [
        "### Analyze Word Frequencies"
      ]
    },
    {
      "cell_type": "code",
      "metadata": {
        "id": "4wYEVKwqDKnN"
      },
      "source": [
        "from collections import Counter \n",
        "  \n",
        "# split() returns list of all the words in the string \n",
        "split_comments = np.array([])\n",
        "for i in comments_processed:\n",
        "  split_comments = np.append(split_comments, i.split())"
      ],
      "execution_count": 474,
      "outputs": []
    },
    {
      "cell_type": "code",
      "metadata": {
        "id": "4bhKpza55VcA"
      },
      "source": [
        "punc = '''!()-[]{};:'\"\\, <>./?@#$%^&*_~`'''\n",
        "# Removing punctuations in string \n",
        "# Using loop + punctuation string \n",
        "for i in range(len(split_comments)):\n",
        "  for ele in split_comments[i]:  \n",
        "    if ele in punc:  \n",
        "        split_comments[i] = None"
      ],
      "execution_count": 476,
      "outputs": []
    },
    {
      "cell_type": "code",
      "metadata": {
        "id": "LdbrkAH553Y3"
      },
      "source": [
        "split_comments = split_comments[split_comments != 'None']"
      ],
      "execution_count": 477,
      "outputs": []
    },
    {
      "cell_type": "code",
      "metadata": {
        "colab": {
          "base_uri": "https://localhost:8080/"
        },
        "id": "dwW7Zodolldz",
        "outputId": "2512fb65-4540-4fdf-cf55-927bf5c22731"
      },
      "source": [
        "from collections import Counter\n",
        "# Pass the split_it list to instance of Counter class. \n",
        "Counter = Counter(split_comments) \n",
        "  \n",
        "# most_common() produces k frequently encountered \n",
        "# input values and their respective counts. \n",
        "most_occur = Counter.most_common(51) \n",
        "  \n",
        "print(most_occur)"
      ],
      "execution_count": 479,
      "outputs": [
        {
          "output_type": "stream",
          "text": [
            "[('like', 269), ('would', 225), ('one', 208), ('get', 181), ('http', 180), ('people', 177), ('think', 166), ('know', 133), ('time', 123), ('good', 120), ('also', 110), ('really', 109), ('gt', 104), ('much', 101), ('could', 94), ('well', 94), ('see', 91), ('make', 91), ('even', 90), ('going', 86), ('still', 82), ('right', 81), ('take', 76), ('way', 75), ('want', 74), ('never', 73), ('go', 71), ('something', 70), ('got', 70), ('use', 69), ('need', 68), ('though', 66), ('say', 66), ('work', 65), ('someone', 60), ('thing', 60), ('probably', 59), ('actually', 58), ('amp', 58), ('back', 57), ('said', 55), ('things', 55), ('pretty', 55), ('new', 54), ('find', 53), ('ca', 53), ('look', 52), ('may', 52), ('years', 52), ('made', 51), ('anything', 51)]\n"
          ],
          "name": "stdout"
        }
      ]
    },
    {
      "cell_type": "code",
      "metadata": {
        "colab": {
          "base_uri": "https://localhost:8080/",
          "height": 537
        },
        "id": "aTcRMLOorhAq",
        "outputId": "f3bd3307-66cb-46ae-f04a-97f86322bf48"
      },
      "source": [
        "def return_words(words_and_occurances):\n",
        "    words = np.array([tup[0] for tup in words_and_occurances])\n",
        "    return words\n",
        "\n",
        "\n",
        "# In[6]:\n",
        "\n",
        "\n",
        "def return_occurances(words_and_occurances):\n",
        "    occurances = np.array([tup[1] for tup in words_and_occurances])\n",
        "    return occurances\n",
        "\n",
        "\n",
        "# In[7]:\n",
        "\n",
        "\n",
        "\"\"\"\n",
        "Plot 20 words and their counts for comparison\n",
        "\"\"\"\n",
        "words = return_words(most_occur)\n",
        "occurances = return_occurances(most_occur)\n",
        "plt.figure(figsize=(15,9))\n",
        "plt.bar(x = words[0:20], height = occurances[0:20]);\n"
      ],
      "execution_count": 516,
      "outputs": [
        {
          "output_type": "display_data",
          "data": {
            "image/png": "[encoded data removed]",
            "text/plain": [
              "<Figure size 1080x648 with 1 Axes>"
            ]
          },
          "metadata": {
            "tags": [],
            "needs_background": "light"
          }
        }
      ]
    },
    {
      "cell_type": "code",
      "metadata": {
        "id": "bkfRDUaL1ojY"
      },
      "source": [
        ""
      ],
      "execution_count": null,
      "outputs": []
    }
  ]
}